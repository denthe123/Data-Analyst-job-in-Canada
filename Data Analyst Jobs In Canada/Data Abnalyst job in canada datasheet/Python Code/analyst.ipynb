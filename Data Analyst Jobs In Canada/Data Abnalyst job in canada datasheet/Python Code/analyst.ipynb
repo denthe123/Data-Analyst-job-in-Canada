{
 "cells": [
  {
   "cell_type": "code",
   "execution_count": null,
   "metadata": {},
   "outputs": [],
   "source": [
    "import pandas as pd\n",
    "import numpy as np\n",
    "import matplotlib.pyplot as plt\n",
    "import seaborn as sns"
   ]
  },
  {
   "cell_type": "code",
   "execution_count": null,
   "metadata": {},
   "outputs": [],
   "source": [
    "data = pd.read_csv(\"Cleaned_Dataset.csv\")"
   ]
  },
  {
   "cell_type": "code",
   "execution_count": null,
   "metadata": {},
   "outputs": [],
   "source": [
    "data.head(1)"
   ]
  },
  {
   "cell_type": "code",
   "execution_count": null,
   "metadata": {},
   "outputs": [],
   "source": [
    "data = data[data['Job Title'].str.contains('Data Analyst', case=False, na=False)]\n",
    "data.head()"
   ]
  },
  {
   "cell_type": "code",
   "execution_count": null,
   "metadata": {},
   "outputs": [],
   "source": [
    "job_title_counts = data['Job Title'].value_counts()\n",
    "print(job_title_counts)"
   ]
  },
  {
   "cell_type": "code",
   "execution_count": null,
   "metadata": {},
   "outputs": [],
   "source": [
    "avg_salary_by_title = data.groupby('Job Title')['Avg_Salary'].mean()\n",
    "print(avg_salary_by_title)\n"
   ]
  },
  {
   "cell_type": "code",
   "execution_count": null,
   "metadata": {},
   "outputs": [],
   "source": [
    "skill_counts = data['Skill'].value_counts()\n",
    "print(skill_counts)\n",
    "\n",
    "seniority_counts = data['Seniority'].value_counts()\n",
    "print(seniority_counts)\n"
   ]
  },
  {
   "cell_type": "code",
   "execution_count": null,
   "metadata": {},
   "outputs": [],
   "source": [
    "job_titles_by_province = data.groupby('Province')['Job Title'].value_counts()\n",
    "print(job_titles_by_province)\n",
    "\n",
    "\n"
   ]
  },
  {
   "cell_type": "code",
   "execution_count": null,
   "metadata": {},
   "outputs": [],
   "source": [
    "job_titles_by_city = data.groupby('City')['Job Title'].value_counts()\n",
    "print(job_titles_by_city)"
   ]
  },
  {
   "cell_type": "code",
   "execution_count": null,
   "metadata": {},
   "outputs": [],
   "source": [
    "plt.figure(figsize=(10, 6))\n",
    "sns.barplot(x=avg_salary_by_title.index, y=avg_salary_by_title.values)\n",
    "plt.xticks(rotation=90)\n",
    "plt.title('Average Salary by Job Title')\n",
    "plt.xlabel('Job Title')\n",
    "plt.ylabel('Average Salary')\n",
    "plt.show()"
   ]
  },
  {
   "cell_type": "code",
   "execution_count": null,
   "metadata": {},
   "outputs": [],
   "source": [
    "# Calculate average salary by skill\n",
    "data['Skill'] = data['Skill'].str.split(', ')\n",
    "data_expanded = data.explode('Skill')\n",
    "\n",
    "avg_salary_by_skill = data_expanded.groupby('Skill')['Avg_Salary'].mean().sort_values(ascending=False)\n",
    "print(avg_salary_by_skill)"
   ]
  },
  {
   "cell_type": "code",
   "execution_count": null,
   "metadata": {},
   "outputs": [],
   "source": [
    "top_10_skills = avg_salary_by_skill.head(20)\n",
    "\n",
    "# Convert Series to DataFrame for plotting\n",
    "df_top_10_skills = top_10_skills.reset_index()\n",
    "df_top_10_skills.columns = ['Skill', 'Avg_Salary']"
   ]
  },
  {
   "cell_type": "code",
   "execution_count": null,
   "metadata": {},
   "outputs": [],
   "source": [
    "plt.figure(figsize=(12, 8))\n",
    "ax = df_top_10_skills.plot(kind='bar', x='Skill', y='Avg_Salary', color='skyblue', legend=False)\n",
    "plt.title('Top 20 Skills with Highest Average Salaries')\n",
    "plt.xlabel('Skill')\n",
    "plt.ylabel('Average Salary')"
   ]
  },
  {
   "cell_type": "code",
   "execution_count": null,
   "metadata": {},
   "outputs": [],
   "source": [
    "df_skills = data[['Job Title', 'Skill']].copy()\n",
    "df_skills['Skill'] = df_skills['Skill'].str.split(', ')\n",
    "df_skills = df_skills.explode('Skill')\n"
   ]
  },
  {
   "cell_type": "code",
   "execution_count": null,
   "metadata": {},
   "outputs": [],
   "source": [
    "df_skills = data_analyst_jobs[['Job Title', 'Skill']].copy()\n",
    "df_skills['Skill'] = df_skills['Skill'].str.split(', ')\n",
    "\n",
    "print(df_skills.head())\n",
    "\n",
    "df_skills = df_skills.explode('Skill')\n",
    "\n",
    "df_skills['Skill'] = df_skills['Skill'].fillna('No Skill')\n",
    "\n",
    "df_skills['Skill'] = df_skills['Skill'].astype(str)\n",
    "\n",
    "print(df_skills.head())\n",
    "\n",
    "skills_by_job_title = df_skills.groupby('Job Title')['Skill'].apply(lambda x: ', '.join(sorted(set(x)))).reset_index()\n",
    "\n",
    "print(skills_by_job_title)\n",
    "\n",
    "output_file_path = 'skills_by_job_title.csv'\n",
    "\n",
    "skills_by_job_title.to_csv(output_file_path, index=False)\n",
    "\n",
    "print(f\"Data exported to {output_file_path}\")"
   ]
  },
  {
   "cell_type": "code",
   "execution_count": null,
   "metadata": {},
   "outputs": [],
   "source": [
    "data.head(1)"
   ]
  },
  {
   "cell_type": "code",
   "execution_count": null,
   "metadata": {},
   "outputs": [],
   "source": [
    "unique_work_types = data['Work Type'].unique()\n",
    "unique_work_types"
   ]
  },
  {
   "cell_type": "code",
   "execution_count": null,
   "metadata": {},
   "outputs": [],
   "source": [
    "salary_by_work_type = data.groupby('Work Type')['Avg_Salary'].mean()"
   ]
  },
  {
   "cell_type": "code",
   "execution_count": null,
   "metadata": {},
   "outputs": [],
   "source": [
    "plt.figure(figsize=(10, 6))\n",
    "salary_by_work_type.plot(kind='bar', color='skyblue')\n",
    "plt.title('Average Salary by Work Type')\n",
    "plt.xlabel('Work Type')\n",
    "plt.ylabel('Average Salary')\n",
    "plt.xticks(rotation=45)\n",
    "plt.grid(axis='y', linestyle='--', alpha=0.7)\n",
    "plt.tight_layout()"
   ]
  },
  {
   "cell_type": "code",
   "execution_count": null,
   "metadata": {},
   "outputs": [],
   "source": [
    "unique_position = data['Position'].unique()\n",
    "unique_position"
   ]
  },
  {
   "cell_type": "code",
   "execution_count": null,
   "metadata": {},
   "outputs": [],
   "source": [
    "salary_by_position = data.groupby('Position')['Avg_Salary'].mean().sort_values()"
   ]
  },
  {
   "cell_type": "code",
   "execution_count": null,
   "metadata": {},
   "outputs": [],
   "source": [
    "plt.figure(figsize=(12, 8))\n",
    "ax = salary_by_position.plot(kind='bar', color='skyblue')\n",
    "plt.title('Average Salary by Position')\n",
    "plt.xlabel('Position')\n",
    "plt.ylabel('Average Salary')"
   ]
  },
  {
   "cell_type": "code",
   "execution_count": null,
   "metadata": {},
   "outputs": [],
   "source": [
    "unique_industry_type = data['Industry Type'].unique()\n",
    "unique_industry_type"
   ]
  },
  {
   "cell_type": "code",
   "execution_count": null,
   "metadata": {},
   "outputs": [],
   "source": [
    "salary_by_industry_type = data.groupby('Industry Type')['Avg_Salary'].mean().sort_values()"
   ]
  },
  {
   "cell_type": "code",
   "execution_count": null,
   "metadata": {},
   "outputs": [],
   "source": [
    "plt.figure(figsize=(12, 8))\n",
    "ax = salary_by_industry_type.plot(kind='bar', color='green')\n",
    "plt.title('Average Salary by Industry Type')\n",
    "plt.xlabel('Industry Type')\n",
    "plt.ylabel('Average Salary')"
   ]
  },
  {
   "cell_type": "code",
   "execution_count": null,
   "metadata": {},
   "outputs": [],
   "source": [
    "unique_employer = data['Employer'].drop_duplicates().tolist()\n",
    "print(unique_employer)"
   ]
  },
  {
   "cell_type": "code",
   "execution_count": null,
   "metadata": {},
   "outputs": [],
   "source": [
    "unique_employer = data['Employer'].unique()\n",
    "unique_employer\n"
   ]
  },
  {
   "cell_type": "code",
   "execution_count": null,
   "metadata": {},
   "outputs": [],
   "source": [
    "top_10_employers = data.nlargest(20, 'Avg_Salary')"
   ]
  },
  {
   "cell_type": "code",
   "execution_count": null,
   "metadata": {},
   "outputs": [],
   "source": [
    "plt.figure(figsize=(16, 12))\n",
    "ax = top_10_employers.plot(kind='bar', x='Employer', y='Avg_Salary', color='red', legend=False)\n",
    "plt.title('Top 20 Employers Offering the Highest Salaries')\n",
    "plt.xlabel('Employer')\n",
    "plt.ylabel('Average Salary')\n",
    "\n",
    "\n"
   ]
  },
  {
   "cell_type": "code",
   "execution_count": null,
   "metadata": {},
   "outputs": [],
   "source": [
    "random_10_employers = data.sample(n=10, random_state=1)  "
   ]
  },
  {
   "cell_type": "code",
   "execution_count": null,
   "metadata": {},
   "outputs": [],
   "source": [
    "plt.figure(figsize=(12, 8))\n",
    "ax = random_10_employers.plot(kind='bar', x='Employer', y='Avg_Salary', color='skyblue', legend=False)\n",
    "plt.title('Random Sample of 10 Employers with Average Salaries')\n",
    "plt.xlabel('Employer')\n",
    "plt.ylabel('Average Salary')\n"
   ]
  }
 ],
 "metadata": {
  "kernelspec": {
   "display_name": "base",
   "language": "python",
   "name": "python3"
  },
  "language_info": {
   "codemirror_mode": {
    "name": "ipython",
    "version": 3
   },
   "file_extension": ".py",
   "mimetype": "text/x-python",
   "name": "python",
   "nbconvert_exporter": "python",
   "pygments_lexer": "ipython3",
   "version": "3.12.4"
  }
 },
 "nbformat": 4,
 "nbformat_minor": 2
}

{
 "cells": [
  {
   "cell_type": "code",
   "execution_count": 2,
   "metadata": {},
   "outputs": [],
   "source": [
    "import pandas as pd"
   ]
  },
  {
   "cell_type": "code",
   "execution_count": 3,
   "metadata": {},
   "outputs": [
    {
     "data": {
      "text/html": [
       "<div>\n",
       "<style scoped>\n",
       "    .dataframe tbody tr th:only-of-type {\n",
       "        vertical-align: middle;\n",
       "    }\n",
       "\n",
       "    .dataframe tbody tr th {\n",
       "        vertical-align: top;\n",
       "    }\n",
       "\n",
       "    .dataframe thead th {\n",
       "        text-align: right;\n",
       "    }\n",
       "</style>\n",
       "<table border=\"1\" class=\"dataframe\">\n",
       "  <thead>\n",
       "    <tr style=\"text-align: right;\">\n",
       "      <th></th>\n",
       "      <th>Job Title</th>\n",
       "      <th>Skill</th>\n",
       "    </tr>\n",
       "  </thead>\n",
       "  <tbody>\n",
       "    <tr>\n",
       "      <th>0</th>\n",
       "      <td>Senior Data Analysts</td>\n",
       "      <td>A/B testing, AS400, ASP.NET, AWS, Adobe Illust...</td>\n",
       "    </tr>\n",
       "    <tr>\n",
       "      <th>1</th>\n",
       "      <td>Senior Supply Chain Data Analysts</td>\n",
       "      <td>Accounting, Accounts payable, Agile, Alteryx, ...</td>\n",
       "    </tr>\n",
       "    <tr>\n",
       "      <th>2</th>\n",
       "      <td>Systems and Data Analysts</td>\n",
       "      <td>.Net, ADP, AI, APIs, AWS, Administrative exper...</td>\n",
       "    </tr>\n",
       "  </tbody>\n",
       "</table>\n",
       "</div>"
      ],
      "text/plain": [
       "                           Job Title  \\\n",
       "0               Senior Data Analysts   \n",
       "1  Senior Supply Chain Data Analysts   \n",
       "2          Systems and Data Analysts   \n",
       "\n",
       "                                               Skill  \n",
       "0  A/B testing, AS400, ASP.NET, AWS, Adobe Illust...  \n",
       "1  Accounting, Accounts payable, Agile, Alteryx, ...  \n",
       "2  .Net, ADP, AI, APIs, AWS, Administrative exper...  "
      ]
     },
     "execution_count": 3,
     "metadata": {},
     "output_type": "execute_result"
    }
   ],
   "source": [
    "skill = pd.read_csv(r\"C:\\Users\\ASUS\\Desktop\\Machine Learning\\Pratice Projects\\Data Analyst Jobs In Canada\\Data Abnalyst job in canada datasheet\\Excel Files\\skills_by_job_title.csv\")\n",
    "skill"
   ]
  },
  {
   "cell_type": "code",
   "execution_count": 4,
   "metadata": {},
   "outputs": [],
   "source": [
    "def remove_duplicates(skills):\n",
    "    skill_list = [skill.strip().lower() for skill in skills.split(',')]\n",
    "    unique_skills = list(set(skill_list))\n",
    "    return ', '.join(unique_skills)"
   ]
  },
  {
   "cell_type": "code",
   "execution_count": 5,
   "metadata": {},
   "outputs": [
    {
     "data": {
      "text/html": [
       "<div>\n",
       "<style scoped>\n",
       "    .dataframe tbody tr th:only-of-type {\n",
       "        vertical-align: middle;\n",
       "    }\n",
       "\n",
       "    .dataframe tbody tr th {\n",
       "        vertical-align: top;\n",
       "    }\n",
       "\n",
       "    .dataframe thead th {\n",
       "        text-align: right;\n",
       "    }\n",
       "</style>\n",
       "<table border=\"1\" class=\"dataframe\">\n",
       "  <thead>\n",
       "    <tr style=\"text-align: right;\">\n",
       "      <th></th>\n",
       "      <th>Job Title</th>\n",
       "      <th>Skill</th>\n",
       "    </tr>\n",
       "  </thead>\n",
       "  <tbody>\n",
       "    <tr>\n",
       "      <th>0</th>\n",
       "      <td>Senior Data Analysts</td>\n",
       "      <td>primavera, gitlab, power bi, salesforce, marke...</td>\n",
       "    </tr>\n",
       "    <tr>\n",
       "      <th>1</th>\n",
       "      <td>Senior Supply Chain Data Analysts</td>\n",
       "      <td>salesforce, gitlab, power bi, marketing, mysql...</td>\n",
       "    </tr>\n",
       "    <tr>\n",
       "      <th>2</th>\n",
       "      <td>Systems and Data Analysts</td>\n",
       "      <td>hris, primavera, salesforce, power bi, stata, ...</td>\n",
       "    </tr>\n",
       "  </tbody>\n",
       "</table>\n",
       "</div>"
      ],
      "text/plain": [
       "                           Job Title  \\\n",
       "0               Senior Data Analysts   \n",
       "1  Senior Supply Chain Data Analysts   \n",
       "2          Systems and Data Analysts   \n",
       "\n",
       "                                               Skill  \n",
       "0  primavera, gitlab, power bi, salesforce, marke...  \n",
       "1  salesforce, gitlab, power bi, marketing, mysql...  \n",
       "2  hris, primavera, salesforce, power bi, stata, ...  "
      ]
     },
     "execution_count": 5,
     "metadata": {},
     "output_type": "execute_result"
    }
   ],
   "source": [
    "skill['Skill'] = skill['Skill'].apply(remove_duplicates)\n",
    "skill"
   ]
  },
  {
   "cell_type": "code",
   "execution_count": 6,
   "metadata": {},
   "outputs": [],
   "source": [
    "def sort_skills(skills):\n",
    "    skill_list = [skill.strip().lower() for skill in skills.split(',')]\n",
    "    unique_skills = sorted(set(skill_list))\n",
    "    return ', '.join(unique_skills)"
   ]
  },
  {
   "cell_type": "code",
   "execution_count": 7,
   "metadata": {},
   "outputs": [],
   "source": [
    "skill['Skill'] = skill['Skill'].apply(sort_skills)"
   ]
  },
  {
   "cell_type": "code",
   "execution_count": 8,
   "metadata": {},
   "outputs": [],
   "source": [
    "skill.to_csv('cleaned_skills_data.csv', index=False)"
   ]
  }
 ],
 "metadata": {
  "kernelspec": {
   "display_name": "base",
   "language": "python",
   "name": "python3"
  },
  "language_info": {
   "codemirror_mode": {
    "name": "ipython",
    "version": 3
   },
   "file_extension": ".py",
   "mimetype": "text/x-python",
   "name": "python",
   "nbconvert_exporter": "python",
   "pygments_lexer": "ipython3",
   "version": "3.12.4"
  }
 },
 "nbformat": 4,
 "nbformat_minor": 2
}
